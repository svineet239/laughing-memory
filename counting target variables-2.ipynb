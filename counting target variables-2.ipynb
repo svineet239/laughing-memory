{
 "cells": [
  {
   "cell_type": "code",
   "execution_count": 2,
   "id": "2e0f2535",
   "metadata": {},
   "outputs": [
    {
     "name": "stdout",
     "output_type": "stream",
     "text": [
      "1 semmester percentage: 46\n",
      "2 semmester percentage: 75\n",
      "3 semmester percentage: 38\n",
      "4 semmester percentage: 53\n",
      "5 semmester percentage: 67\n",
      "6 semmester percentage: 71\n",
      "attendence percentage: 68\n",
      "extra curricular percentage: 83\n",
      "academic award percentage: 55\n",
      "coding skills percentage: 62\n"
     ]
    }
   ],
   "source": [
    "a=int(input('1 semmester percentage: '))\n",
    "b=int(input('2 semmester percentage: '))\n",
    "c=int(input('3 semmester percentage: '))\n",
    "d=int(input('4 semmester percentage: '))\n",
    "e=int(input('5 semmester percentage: '))\n",
    "f=int(input('6 semmester percentage: '))\n",
    "g=int(input('attendence percentage: '))\n",
    "h=int(input('extra curricular percentage: '))\n",
    "i=int(input('academic award percentage: '))\n",
    "j=int(input('coding skills percentage: '))"
   ]
  },
  {
   "cell_type": "code",
   "execution_count": 3,
   "id": "9dab343f",
   "metadata": {},
   "outputs": [],
   "source": [
    "k=[a,b,c,d,e,f]"
   ]
  },
  {
   "cell_type": "code",
   "execution_count": 4,
   "id": "e781affe",
   "metadata": {},
   "outputs": [
    {
     "data": {
      "text/plain": [
       "[46, 75, 38, 53, 67, 71]"
      ]
     },
     "execution_count": 4,
     "metadata": {},
     "output_type": "execute_result"
    }
   ],
   "source": [
    "k"
   ]
  },
  {
   "cell_type": "code",
   "execution_count": 5,
   "id": "86103626",
   "metadata": {},
   "outputs": [],
   "source": [
    "if min(k)<35 and g<30:\n",
    "    dropout=1\n",
    "else:dropout=0"
   ]
  },
  {
   "cell_type": "code",
   "execution_count": 6,
   "id": "958833f7",
   "metadata": {},
   "outputs": [
    {
     "data": {
      "text/plain": [
       "0"
      ]
     },
     "execution_count": 6,
     "metadata": {},
     "output_type": "execute_result"
    }
   ],
   "source": [
    "dropout"
   ]
  },
  {
   "cell_type": "code",
   "execution_count": 7,
   "id": "d6e04b41",
   "metadata": {},
   "outputs": [],
   "source": [
    "count=0\n",
    "for i in k:\n",
    "    if i>60:\n",
    "        count+=1\n",
    "if count==6:\n",
    "    good_performance=1\n",
    "else:good_performance=0"
   ]
  },
  {
   "cell_type": "code",
   "execution_count": 8,
   "id": "1341cb0f",
   "metadata": {},
   "outputs": [
    {
     "data": {
      "text/plain": [
       "0"
      ]
     },
     "execution_count": 8,
     "metadata": {},
     "output_type": "execute_result"
    }
   ],
   "source": [
    "good_performance"
   ]
  },
  {
   "cell_type": "code",
   "execution_count": 9,
   "id": "5f7b8879",
   "metadata": {},
   "outputs": [],
   "source": [
    "if max(k)<40:\n",
    "    poor_performance=1\n",
    "else:poor_performance=0"
   ]
  },
  {
   "cell_type": "code",
   "execution_count": 10,
   "id": "e169412b",
   "metadata": {},
   "outputs": [
    {
     "data": {
      "text/plain": [
       "0"
      ]
     },
     "execution_count": 10,
     "metadata": {},
     "output_type": "execute_result"
    }
   ],
   "source": [
    "poor_performance"
   ]
  },
  {
   "cell_type": "code",
   "execution_count": 11,
   "id": "16bb0686",
   "metadata": {},
   "outputs": [],
   "source": [
    "for i in k:\n",
    "    if i<60 and i>=40:\n",
    "        support_required=1\n",
    "        break\n",
    "    else:support_required=0\n"
   ]
  },
  {
   "cell_type": "code",
   "execution_count": 12,
   "id": "9a77bdbe",
   "metadata": {},
   "outputs": [
    {
     "data": {
      "text/plain": [
       "1"
      ]
     },
     "execution_count": 12,
     "metadata": {},
     "output_type": "execute_result"
    }
   ],
   "source": [
    "support_required"
   ]
  },
  {
   "cell_type": "code",
   "execution_count": 13,
   "id": "f7cd5b19",
   "metadata": {},
   "outputs": [],
   "source": [
    "count=0\n",
    "for i in k:\n",
    "    if i>65:\n",
    "        count+=1\n",
    "if count<=5:\n",
    "    eligible_for_placement=0\n",
    "else:\n",
    "    \n",
    "    if h>65:\n",
    "        count+=1\n",
    "    if i>65:\n",
    "        count+=1\n",
    "    if j>65:\n",
    "        count+=1\n",
    "\n",
    "if count>=7:\n",
    "    eligible_for_placement=1\n",
    "else:eligible_for_placement=0\n"
   ]
  },
  {
   "cell_type": "code",
   "execution_count": 14,
   "id": "8d3d64fd",
   "metadata": {},
   "outputs": [
    {
     "data": {
      "text/plain": [
       "0"
      ]
     },
     "execution_count": 14,
     "metadata": {},
     "output_type": "execute_result"
    }
   ],
   "source": [
    "eligible_for_placement"
   ]
  },
  {
   "cell_type": "code",
   "execution_count": null,
   "id": "529b3f34",
   "metadata": {},
   "outputs": [],
   "source": []
  }
 ],
 "metadata": {
  "kernelspec": {
   "display_name": "Python 3 (ipykernel)",
   "language": "python",
   "name": "python3"
  },
  "language_info": {
   "codemirror_mode": {
    "name": "ipython",
    "version": 3
   },
   "file_extension": ".py",
   "mimetype": "text/x-python",
   "name": "python",
   "nbconvert_exporter": "python",
   "pygments_lexer": "ipython3",
   "version": "3.9.12"
  }
 },
 "nbformat": 4,
 "nbformat_minor": 5
}
