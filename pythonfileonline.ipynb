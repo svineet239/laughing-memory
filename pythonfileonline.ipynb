{
  "nbformat": 4,
  "nbformat_minor": 0,
  "metadata": {
    "colab": {
      "provenance": [],
      "authorship_tag": "ABX9TyPl6t1M0RZ5rNJCwUExGeAF",
      "include_colab_link": true
    },
    "kernelspec": {
      "name": "python3",
      "display_name": "Python 3"
    },
    "language_info": {
      "name": "python"
    }
  },
  "cells": [
    {
      "cell_type": "markdown",
      "metadata": {
        "id": "view-in-github",
        "colab_type": "text"
      },
      "source": [
        "<a href=\"https://colab.research.google.com/github/svineet239/laughing-memory/blob/main/pythonfileonline.ipynb\" target=\"_parent\"><img src=\"https://colab.research.google.com/assets/colab-badge.svg\" alt=\"Open In Colab\"/></a>"
      ]
    },
    {
      "cell_type": "code",
      "execution_count": null,
      "metadata": {
        "colab": {
          "base_uri": "https://localhost:8080/"
        },
        "id": "pjCNc_O_-ckG",
        "outputId": "fa9dba44-c21c-4cb0-c3fc-893aea74f958"
      },
      "outputs": [
        {
          "output_type": "stream",
          "name": "stdout",
          "text": [
            "200\n"
          ]
        }
      ],
      "source": [
        "a= 10\n",
        "b= 20\n",
        "c= a*b\n",
        "print(c)\n"
      ]
    },
    {
      "cell_type": "code",
      "source": [
        "a= 20\n",
        "b=30\n",
        "c = a+b\n",
        "print(c)\n"
      ],
      "metadata": {
        "colab": {
          "base_uri": "https://localhost:8080/"
        },
        "id": "xwsANW_M-fun",
        "outputId": "0d3e23b6-9fdf-41f7-83a7-95758e16acb1"
      },
      "execution_count": null,
      "outputs": [
        {
          "output_type": "stream",
          "name": "stdout",
          "text": [
            "50\n"
          ]
        }
      ]
    },
    {
      "cell_type": "code",
      "source": [
        "print(\"my name is vineet sharma\")"
      ],
      "metadata": {
        "colab": {
          "base_uri": "https://localhost:8080/"
        },
        "id": "h8kNuuw1_hp2",
        "outputId": "8329a666-7433-432b-b4a8-41c0592f30b6"
      },
      "execution_count": null,
      "outputs": [
        {
          "output_type": "stream",
          "name": "stdout",
          "text": [
            "my name is vineet sharma\n"
          ]
        }
      ]
    },
    {
      "cell_type": "code",
      "source": [
        "print(\"hello python world\")"
      ],
      "metadata": {
        "colab": {
          "base_uri": "https://localhost:8080/"
        },
        "id": "opoAs3TSAVic",
        "outputId": "fe73e36f-35a0-427c-f071-722761752249"
      },
      "execution_count": null,
      "outputs": [
        {
          "output_type": "stream",
          "name": "stdout",
          "text": [
            "hello python world\n"
          ]
        }
      ]
    },
    {
      "cell_type": "code",
      "source": [
        "a=10\n",
        "b= 20\n",
        "c=30\n",
        "a+b+c"
      ],
      "metadata": {
        "colab": {
          "base_uri": "https://localhost:8080/"
        },
        "id": "QDZN_YCTAzhM",
        "outputId": "d785a8da-a83f-4c86-db7e-a252714ad7fb"
      },
      "execution_count": null,
      "outputs": [
        {
          "output_type": "execute_result",
          "data": {
            "text/plain": [
              "60"
            ]
          },
          "metadata": {},
          "execution_count": 5
        }
      ]
    },
    {
      "cell_type": "code",
      "source": [
        "a= 25\n",
        "b= 30\n",
        "a-b"
      ],
      "metadata": {
        "colab": {
          "base_uri": "https://localhost:8080/"
        },
        "id": "mnHtR-fMBEzi",
        "outputId": "4fb3117f-89fb-4c0f-eb0d-b795ee34fa3a"
      },
      "execution_count": null,
      "outputs": [
        {
          "output_type": "execute_result",
          "data": {
            "text/plain": [
              "-5"
            ]
          },
          "metadata": {},
          "execution_count": 6
        }
      ]
    },
    {
      "cell_type": "code",
      "source": [
        "x=10\n",
        "y=20\n",
        "if x>y:\n",
        "  print (\"x is greater \")\n",
        "else:\n",
        "  print (\"y is greater\")"
      ],
      "metadata": {
        "colab": {
          "base_uri": "https://localhost:8080/"
        },
        "id": "FGj9gmfBCSf9",
        "outputId": "2af7d800-6d1a-4c5a-8f22-e8d7b857d36b"
      },
      "execution_count": null,
      "outputs": [
        {
          "output_type": "stream",
          "name": "stdout",
          "text": [
            "y is greater\n"
          ]
        }
      ]
    },
    {
      "cell_type": "code",
      "source": [
        "list(\"vin, mini, vidhi, vani, chotu\")"
      ],
      "metadata": {
        "id": "SghAaAkIDaD8",
        "colab": {
          "base_uri": "https://localhost:8080/"
        },
        "outputId": "8d8bd1d1-7bce-497d-ee2b-ddda042e8689"
      },
      "execution_count": null,
      "outputs": [
        {
          "output_type": "execute_result",
          "data": {
            "text/plain": [
              "['v',\n",
              " 'i',\n",
              " 'n',\n",
              " ',',\n",
              " ' ',\n",
              " 'm',\n",
              " 'i',\n",
              " 'n',\n",
              " 'i',\n",
              " ',',\n",
              " ' ',\n",
              " 'v',\n",
              " 'i',\n",
              " 'd',\n",
              " 'h',\n",
              " 'i',\n",
              " ',',\n",
              " ' ',\n",
              " 'v',\n",
              " 'a',\n",
              " 'n',\n",
              " 'i',\n",
              " ',',\n",
              " ' ',\n",
              " 'c',\n",
              " 'h',\n",
              " 'o',\n",
              " 't',\n",
              " 'u']"
            ]
          },
          "metadata": {},
          "execution_count": 10
        }
      ]
    },
    {
      "cell_type": "code",
      "source": [
        "list{1\n",
        "    }"
      ],
      "metadata": {
        "colab": {
          "base_uri": "https://localhost:8080/",
          "height": 130
        },
        "id": "SnihMJkp84Rd",
        "outputId": "1e504114-2264-4a97-d193-c33fd317ad91"
      },
      "execution_count": null,
      "outputs": [
        {
          "output_type": "error",
          "ename": "SyntaxError",
          "evalue": "ignored",
          "traceback": [
            "\u001b[0;36m  File \u001b[0;32m\"<ipython-input-12-72870d564888>\"\u001b[0;36m, line \u001b[0;32m1\u001b[0m\n\u001b[0;31m    list{1\u001b[0m\n\u001b[0m        ^\u001b[0m\n\u001b[0;31mSyntaxError\u001b[0m\u001b[0;31m:\u001b[0m invalid syntax\n"
          ]
        }
      ]
    },
    {
      "cell_type": "markdown",
      "source": [
        "break statement\n"
      ],
      "metadata": {
        "id": "zlffMV2VaAmB"
      }
    },
    {
      "cell_type": "code",
      "source": [
        "for i in range(0,80):\n",
        "          print(i)\n",
        "          if i==45:\n",
        "                break\n",
        "    \n",
        "                \n",
        "                 "
      ],
      "metadata": {
        "colab": {
          "base_uri": "https://localhost:8080/"
        },
        "id": "XVZM-Ef_aFDI",
        "outputId": "9aa99dc8-a2d6-48ae-f7ae-afb8ebc0b8c8"
      },
      "execution_count": 10,
      "outputs": [
        {
          "output_type": "stream",
          "name": "stdout",
          "text": [
            "0\n",
            "1\n",
            "2\n",
            "3\n",
            "4\n",
            "5\n",
            "6\n",
            "7\n",
            "8\n",
            "9\n",
            "10\n",
            "11\n",
            "12\n",
            "13\n",
            "14\n",
            "15\n",
            "16\n",
            "17\n",
            "18\n",
            "19\n",
            "20\n",
            "21\n",
            "22\n",
            "23\n",
            "24\n",
            "25\n",
            "26\n",
            "27\n",
            "28\n",
            "29\n",
            "30\n",
            "31\n",
            "32\n",
            "33\n",
            "34\n",
            "35\n",
            "36\n",
            "37\n",
            "38\n",
            "39\n",
            "40\n",
            "41\n",
            "42\n",
            "43\n",
            "44\n",
            "45\n"
          ]
        }
      ]
    },
    {
      "cell_type": "code",
      "source": [
        "for i in range(4):\n",
        "      print(\"printing\")\n",
        "      if i==2:\n",
        "          continue\n",
        "      print(i)    "
      ],
      "metadata": {
        "colab": {
          "base_uri": "https://localhost:8080/"
        },
        "id": "9c0V6P9GZ_fY",
        "outputId": "7ec2f794-8106-4c73-9a25-f589fc8a67a3"
      },
      "execution_count": 12,
      "outputs": [
        {
          "output_type": "stream",
          "name": "stdout",
          "text": [
            "printing\n",
            "0\n",
            "printing\n",
            "1\n",
            "printing\n",
            "printing\n",
            "3\n"
          ]
        }
      ]
    },
    {
      "cell_type": "code",
      "source": [
        "l = [1,7,8]\n",
        "for item in l:\n",
        "       print(item)\n",
        "else:\n",
        "    print(\"DONE\")"
      ],
      "metadata": {
        "colab": {
          "base_uri": "https://localhost:8080/"
        },
        "id": "AGy18rKmZ_dT",
        "outputId": "6788c36e-df7a-4f1d-9c56-5654d3f99e7c"
      },
      "execution_count": 27,
      "outputs": [
        {
          "output_type": "stream",
          "name": "stdout",
          "text": [
            "1\n",
            "7\n",
            "8\n",
            "DONE\n"
          ]
        }
      ]
    },
    {
      "cell_type": "code",
      "source": [
        "for i in range(0,8):\n",
        "      print(i)\n"
      ],
      "metadata": {
        "colab": {
          "base_uri": "https://localhost:8080/"
        },
        "id": "JVCNL3sUdcPN",
        "outputId": "a5d36dd4-d761-491a-fc1f-8d018d8111ed"
      },
      "execution_count": 28,
      "outputs": [
        {
          "output_type": "stream",
          "name": "stdout",
          "text": [
            "0\n",
            "1\n",
            "2\n",
            "3\n",
            "4\n",
            "5\n",
            "6\n",
            "7\n"
          ]
        }
      ]
    },
    {
      "cell_type": "code",
      "source": [
        "range(0,19j=int(input),14)"
      ],
      "metadata": {
        "colab": {
          "base_uri": "https://localhost:8080/"
        },
        "id": "IL5E5sH1dugY",
        "outputId": "d6a114da-c99d-4335-ed10-dafaaa26433b"
      },
      "execution_count": 30,
      "outputs": [
        {
          "output_type": "execute_result",
          "data": {
            "text/plain": [
              "range(0, 19, 14)"
            ]
          },
          "metadata": {},
          "execution_count": 30
        }
      ]
    },
    {
      "cell_type": "code",
      "source": [
        "i=1\n",
        "j=int(input('enter any numberfor table generation'))\n",
        "while(i<=10):\n",
        "     print(j,'*',i,'=',j*i)\n",
        "     i=i+1\n"
      ],
      "metadata": {
        "colab": {
          "base_uri": "https://localhost:8080/"
        },
        "id": "e89J9xSoeWiy",
        "outputId": "2291fb4e-14c2-4f4c-f286-b889cacfecb8"
      },
      "execution_count": 36,
      "outputs": [
        {
          "output_type": "stream",
          "name": "stdout",
          "text": [
            "enter any numberfor table generation15\n",
            "15 * 1 = 15\n",
            "15 * 2 = 30\n",
            "15 * 3 = 45\n",
            "15 * 4 = 60\n",
            "15 * 5 = 75\n",
            "15 * 6 = 90\n",
            "15 * 7 = 105\n",
            "15 * 8 = 120\n",
            "15 * 9 = 135\n",
            "15 * 10 = 150\n"
          ]
        }
      ]
    },
    {
      "cell_type": "code",
      "source": [
        "n = 5\n",
        "product = 1\n",
        "for i in range(n):\n",
        "    product = product * (i+1)\n",
        "print(product)    "
      ],
      "metadata": {
        "colab": {
          "base_uri": "https://localhost:8080/"
        },
        "id": "0OaK54bFjl-T",
        "outputId": "ac664da3-6ee8-450b-e902-c049464ab5cf"
      },
      "execution_count": 57,
      "outputs": [
        {
          "output_type": "stream",
          "name": "stdout",
          "text": [
            "120\n"
          ]
        }
      ]
    },
    {
      "cell_type": "code",
      "source": [
        "def greet(\"name\"):\n",
        "         print = \"hello\" + name\n",
        "         return gr\n",
        "    a = gr(\"harry\"):\n",
        "    print(a)     \n",
        "\n",
        "     \n",
        "        "
      ],
      "metadata": {
        "colab": {
          "base_uri": "https://localhost:8080/",
          "height": 130
        },
        "id": "HjhdVIf9f6rI",
        "outputId": "b586d475-5d7b-41d4-bbf0-3672dfd95dad"
      },
      "execution_count": 93,
      "outputs": [
        {
          "output_type": "error",
          "ename": "IndentationError",
          "evalue": "ignored",
          "traceback": [
            "\u001b[0;36m  File \u001b[0;32m\"<tokenize>\"\u001b[0;36m, line \u001b[0;32m4\u001b[0m\n\u001b[0;31m    a = gr(\"harry\"):\u001b[0m\n\u001b[0m    ^\u001b[0m\n\u001b[0;31mIndentationError\u001b[0m\u001b[0;31m:\u001b[0m unindent does not match any outer indentation level\n"
          ]
        }
      ]
    },
    {
      "cell_type": "code",
      "source": [
        "def factorial_iter (n):\n",
        "    product = 1\n",
        "    for i in range(n):\n",
        "            product = product * (i+1)\n",
        "    return product    \n",
        "f = factorial_iter(5)\n",
        "print(f)     "
      ],
      "metadata": {
        "colab": {
          "base_uri": "https://localhost:8080/"
        },
        "id": "SbotPjaPhKWQ",
        "outputId": "bb04a7d3-451f-418c-824e-67d8afeb2e52"
      },
      "execution_count": 64,
      "outputs": [
        {
          "output_type": "stream",
          "name": "stdout",
          "text": [
            "120\n"
          ]
        }
      ]
    },
    {
      "cell_type": "code",
      "source": [
        "def factorial_recursive(n):\n",
        "    if n==1 or n==0:\n",
        "        return 1\n",
        "    return n * factorial_recursive(n-1)\n",
        "f = factorial_recursive(5)\n",
        "print(f)        "
      ],
      "metadata": {
        "colab": {
          "base_uri": "https://localhost:8080/"
        },
        "id": "nHxVie38mAnY",
        "outputId": "3d0b686e-46f4-4218-a279-a6b53bd4521c"
      },
      "execution_count": 66,
      "outputs": [
        {
          "output_type": "stream",
          "name": "stdout",
          "text": [
            "120\n"
          ]
        }
      ]
    },
    {
      "cell_type": "code",
      "source": [
        "def maximum(num1, num2, num3):\n",
        "    if(num1>num2):\n",
        "      if(num1>num3):\n",
        "            return num1\n",
        "      else:\n",
        "          return num3\n",
        "    else:\n",
        "          if(num2>num3):\n",
        "             return num2\n",
        "          else:\n",
        "           return num3\n",
        "m = maximum(3, 5, 2)\n",
        "print(\"the value of the maximum is \" + str(m))                           \n"
      ],
      "metadata": {
        "colab": {
          "base_uri": "https://localhost:8080/"
        },
        "id": "r1bAflqtnQRh",
        "outputId": "dcaaaf43-e359-4d4f-eca6-c7be3ecd1744"
      },
      "execution_count": 85,
      "outputs": [
        {
          "output_type": "stream",
          "name": "stdout",
          "text": [
            "the value of the maximum is 5\n"
          ]
        }
      ]
    },
    {
      "cell_type": "code",
      "source": [
        "def fahr(cel):\n",
        "    return(cel *(9/5)) +32\n",
        "\n",
        "c = 45\n",
        "fahr(c)\n",
        "print(\"fahreheit temperature is \" + str(f))"
      ],
      "metadata": {
        "colab": {
          "base_uri": "https://localhost:8080/"
        },
        "id": "SWgU8zUuqt4a",
        "outputId": "c0953c7e-003b-4b01-d62f-0408991409f8"
      },
      "execution_count": 97,
      "outputs": [
        {
          "output_type": "stream",
          "name": "stdout",
          "text": [
            "fahreheit temperature is 120\n"
          ]
        }
      ]
    },
    {
      "cell_type": "code",
      "source": [
        "n = 6\n",
        "for i in range(n):\n",
        "    print(\"*\" * (n-i))"
      ],
      "metadata": {
        "colab": {
          "base_uri": "https://localhost:8080/"
        },
        "id": "m87cUkmwsX5v",
        "outputId": "4b55f6f1-36ce-4dca-de1b-1a913c759ada"
      },
      "execution_count": 99,
      "outputs": [
        {
          "output_type": "stream",
          "name": "stdout",
          "text": [
            "******\n",
            "*****\n",
            "****\n",
            "***\n",
            "**\n",
            "*\n"
          ]
        }
      ]
    },
    {
      "cell_type": "code",
      "source": [
        "this = \" harry is a good tutor\"\n",
        "print(this)\n",
        "print(this.strip())"
      ],
      "metadata": {
        "colab": {
          "base_uri": "https://localhost:8080/"
        },
        "id": "v6voHFXzs91f",
        "outputId": "6dbd067d-e577-4723-e7d0-d17fee1a4194"
      },
      "execution_count": 100,
      "outputs": [
        {
          "output_type": "stream",
          "name": "stdout",
          "text": [
            " harry is a good tutor\n",
            "harry is a good tutor\n"
          ]
        }
      ]
    },
    {
      "cell_type": "code",
      "source": [
        "def remove_and_split(string, word):\n",
        "    newstr = string.replace(word,\"\")\n",
        "    return newstr.strip()\n",
        "\n",
        "this = \" harry is a good tutuor\"\n",
        "n = remove_and_split(this,\"harry\")\n",
        "print(n)"
      ],
      "metadata": {
        "colab": {
          "base_uri": "https://localhost:8080/"
        },
        "id": "L0liopX6tjSL",
        "outputId": "73f87503-8f51-4c67-e275-d644b0679451"
      },
      "execution_count": 101,
      "outputs": [
        {
          "output_type": "stream",
          "name": "stdout",
          "text": [
            "is a good tutuor\n"
          ]
        }
      ]
    }
  ]
}